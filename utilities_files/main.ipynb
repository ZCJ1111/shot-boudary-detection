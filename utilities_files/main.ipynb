{
 "cells": [
  {
   "cell_type": "code",
   "execution_count": 1,
   "id": "a74ceddb-d4d1-4f72-9410-4d83d1b504dd",
   "metadata": {
    "execution": {
     "iopub.execute_input": "2022-02-13T19:01:52.611596Z",
     "iopub.status.busy": "2022-02-13T19:01:52.611029Z",
     "iopub.status.idle": "2022-02-13T19:01:52.736251Z",
     "shell.execute_reply": "2022-02-13T19:01:52.735743Z",
     "shell.execute_reply.started": "2022-02-13T19:01:52.611504Z"
    },
    "tags": []
   },
   "outputs": [],
   "source": [
    "import opticalFlowUtilities as util"
   ]
  },
  {
   "cell_type": "code",
   "execution_count": 2,
   "id": "5d28df24-6669-4d2e-bdae-39bed1514f2d",
   "metadata": {
    "execution": {
     "iopub.execute_input": "2022-02-13T19:01:52.737950Z",
     "iopub.status.busy": "2022-02-13T19:01:52.737706Z",
     "iopub.status.idle": "2022-02-13T19:01:52.740914Z",
     "shell.execute_reply": "2022-02-13T19:01:52.740349Z",
     "shell.execute_reply.started": "2022-02-13T19:01:52.737924Z"
    },
    "tags": []
   },
   "outputs": [],
   "source": [
    "filename = \"9210f99e-da25-41ed-9930-433a24105445_preview.mp4\""
   ]
  },
  {
   "cell_type": "code",
   "execution_count": 3,
   "id": "2cd3373c-5c22-47e7-b4b7-7b164d59fbcb",
   "metadata": {
    "execution": {
     "iopub.execute_input": "2022-02-13T19:01:52.741921Z",
     "iopub.status.busy": "2022-02-13T19:01:52.741656Z",
     "iopub.status.idle": "2022-02-13T19:01:52.871369Z",
     "shell.execute_reply": "2022-02-13T19:01:52.870740Z",
     "shell.execute_reply.started": "2022-02-13T19:01:52.741899Z"
    },
    "tags": []
   },
   "outputs": [],
   "source": [
    "opt_flow = util.generateOpticalFlowResults(filename, end_frame=1000, output_path = 'results_MR')"
   ]
  },
  {
   "cell_type": "code",
   "execution_count": 4,
   "id": "14ba084e-3ecf-48ed-b993-8ca8ec0e347e",
   "metadata": {
    "execution": {
     "iopub.execute_input": "2022-02-13T19:01:52.872807Z",
     "iopub.status.busy": "2022-02-13T19:01:52.872396Z",
     "iopub.status.idle": "2022-02-13T19:05:49.838048Z",
     "shell.execute_reply": "2022-02-13T19:05:49.837399Z",
     "shell.execute_reply.started": "2022-02-13T19:01:52.872780Z"
    },
    "tags": []
   },
   "outputs": [],
   "source": [
    "# generate the optical flow files\n",
    "opt_flow.runOpticalFlow()"
   ]
  },
  {
   "cell_type": "code",
   "execution_count": 5,
   "id": "35f5c235-5f2c-455b-b72b-37da5e5233fd",
   "metadata": {
    "execution": {
     "iopub.execute_input": "2022-02-13T19:05:49.839328Z",
     "iopub.status.busy": "2022-02-13T19:05:49.839047Z",
     "iopub.status.idle": "2022-02-13T19:06:57.487627Z",
     "shell.execute_reply": "2022-02-13T19:06:57.486463Z",
     "shell.execute_reply.started": "2022-02-13T19:05:49.839291Z"
    }
   },
   "outputs": [
    {
     "name": "stderr",
     "output_type": "stream",
     "text": [
      "100%|██████████| 500/500 [00:11<00:00, 43.72it/s]\n",
      "100%|██████████| 500/500 [00:11<00:00, 41.95it/s]\n"
     ]
    }
   ],
   "source": [
    "# generate a video file showing optical flow overlay\n",
    "opt_flow.generateOpticalFlowVideo()"
   ]
  },
  {
   "cell_type": "code",
   "execution_count": 6,
   "id": "180abe44-152f-40c0-be9f-2a1e1b770402",
   "metadata": {
    "execution": {
     "iopub.execute_input": "2022-02-13T19:06:57.489424Z",
     "iopub.status.busy": "2022-02-13T19:06:57.489080Z",
     "iopub.status.idle": "2022-02-13T19:07:15.318050Z",
     "shell.execute_reply": "2022-02-13T19:07:15.317352Z",
     "shell.execute_reply.started": "2022-02-13T19:06:57.489392Z"
    }
   },
   "outputs": [
    {
     "name": "stderr",
     "output_type": "stream",
     "text": [
      "t:   2%|▏         | 18/960 [00:00<00:05, 174.77it/s, now=None]"
     ]
    },
    {
     "name": "stdout",
     "output_type": "stream",
     "text": [
      "Moviepy - Building video results_MR/out0_fused.mp4.\n",
      "Moviepy - Writing video results_MR/out0_fused.mp4\n",
      "\n"
     ]
    },
    {
     "name": "stderr",
     "output_type": "stream",
     "text": [
      "t:   0%|          | 0/960 [00:00<?, ?it/s, now=None]           "
     ]
    },
    {
     "name": "stdout",
     "output_type": "stream",
     "text": [
      "Moviepy - Done !\n",
      "Moviepy - video ready results_MR/out0_fused.mp4\n",
      "Moviepy - Building video results_MR/vid0_fused.mp4.\n",
      "Moviepy - Writing video results_MR/vid0_fused.mp4\n",
      "\n"
     ]
    },
    {
     "name": "stderr",
     "output_type": "stream",
     "text": [
      "                                                               \r"
     ]
    },
    {
     "name": "stdout",
     "output_type": "stream",
     "text": [
      "Moviepy - Done !\n",
      "Moviepy - video ready results_MR/vid0_fused.mp4\n"
     ]
    }
   ],
   "source": [
    "opt_flow.fuseVideoFiles(prefix='out0_')\n",
    "opt_flow.fuseVideoFiles(prefix='vid0_')"
   ]
  },
  {
   "cell_type": "code",
   "execution_count": 7,
   "id": "7c25c832-e011-4566-91d9-dbae64bd4075",
   "metadata": {
    "execution": {
     "iopub.execute_input": "2022-02-13T19:07:15.319825Z",
     "iopub.status.busy": "2022-02-13T19:07:15.319257Z",
     "iopub.status.idle": "2022-02-13T19:07:15.330736Z",
     "shell.execute_reply": "2022-02-13T19:07:15.329943Z",
     "shell.execute_reply.started": "2022-02-13T19:07:15.319791Z"
    },
    "tags": []
   },
   "outputs": [],
   "source": [
    "opt_flow.cleanupFiles(prefix='out0_')\n",
    "opt_flow.cleanupFiles(prefix='vid0_')"
   ]
  },
  {
   "cell_type": "code",
   "execution_count": 8,
   "id": "08a3ae13-d0a5-40f4-b14c-e665f454b5cb",
   "metadata": {
    "execution": {
     "iopub.execute_input": "2022-02-13T19:07:15.331850Z",
     "iopub.status.busy": "2022-02-13T19:07:15.331602Z",
     "iopub.status.idle": "2022-02-13T19:07:23.530515Z",
     "shell.execute_reply": "2022-02-13T19:07:23.529750Z",
     "shell.execute_reply.started": "2022-02-13T19:07:15.331827Z"
    },
    "tags": []
   },
   "outputs": [
    {
     "name": "stderr",
     "output_type": "stream",
     "text": [
      "100%|██████████| 1000/1000 [00:08<00:00, 122.13it/s]\n"
     ]
    }
   ],
   "source": [
    "approach = 3\n",
    "opt_flow.computeMagnitudes(approach)"
   ]
  },
  {
   "cell_type": "code",
   "execution_count": 9,
   "id": "8b3b9a31-7b55-4527-a1e6-9d3ac611e02a",
   "metadata": {
    "execution": {
     "iopub.execute_input": "2022-02-13T19:07:23.531676Z",
     "iopub.status.busy": "2022-02-13T19:07:23.531494Z",
     "iopub.status.idle": "2022-02-13T19:07:23.534868Z",
     "shell.execute_reply": "2022-02-13T19:07:23.534267Z",
     "shell.execute_reply.started": "2022-02-13T19:07:23.531654Z"
    },
    "tags": []
   },
   "outputs": [],
   "source": [
    "transition_frames = opt_flow.thresholdMagnitudes()"
   ]
  },
  {
   "cell_type": "code",
   "execution_count": 10,
   "id": "25f0c67e-0d1f-4b32-a3f0-80ffa840bac2",
   "metadata": {
    "execution": {
     "iopub.execute_input": "2022-02-13T19:07:23.536012Z",
     "iopub.status.busy": "2022-02-13T19:07:23.535675Z",
     "iopub.status.idle": "2022-02-13T19:07:23.971743Z",
     "shell.execute_reply": "2022-02-13T19:07:23.971160Z",
     "shell.execute_reply.started": "2022-02-13T19:07:23.535987Z"
    }
   },
   "outputs": [
    {
     "name": "stderr",
     "output_type": "stream",
     "text": [
      "100%|██████████| 15/15 [00:00<00:00, 35.44it/s]\n"
     ]
    }
   ],
   "source": [
    "opt_flow.writeTransitionFrames()"
   ]
  },
  {
   "cell_type": "code",
   "execution_count": 11,
   "id": "bf33d802-0a6f-4150-a848-f98fc52497f3",
   "metadata": {
    "execution": {
     "iopub.execute_input": "2022-02-13T19:07:23.973677Z",
     "iopub.status.busy": "2022-02-13T19:07:23.973482Z",
     "iopub.status.idle": "2022-02-13T19:07:47.633313Z",
     "shell.execute_reply": "2022-02-13T19:07:47.632372Z",
     "shell.execute_reply.started": "2022-02-13T19:07:23.973655Z"
    }
   },
   "outputs": [
    {
     "name": "stderr",
     "output_type": "stream",
     "text": [
      "100%|██████████| 400/400 [00:02<00:00, 144.47it/s]\n",
      "100%|██████████| 400/400 [00:02<00:00, 135.58it/s]\n",
      "100%|██████████| 200/200 [00:01<00:00, 134.92it/s]\n"
     ]
    }
   ],
   "source": [
    "opt_flow.createTransitionVideos()"
   ]
  },
  {
   "cell_type": "code",
   "execution_count": 12,
   "id": "8b202de1-2110-4e7f-b391-b97ac4f43fd2",
   "metadata": {
    "execution": {
     "iopub.execute_input": "2022-02-13T19:07:47.634827Z",
     "iopub.status.busy": "2022-02-13T19:07:47.634617Z",
     "iopub.status.idle": "2022-02-13T19:07:53.870383Z",
     "shell.execute_reply": "2022-02-13T19:07:53.869661Z",
     "shell.execute_reply.started": "2022-02-13T19:07:47.634801Z"
    },
    "tags": []
   },
   "outputs": [
    {
     "name": "stderr",
     "output_type": "stream",
     "text": [
      "t:   2%|▏         | 18/960 [00:00<00:05, 177.55it/s, now=None]"
     ]
    },
    {
     "name": "stdout",
     "output_type": "stream",
     "text": [
      "Moviepy - Building video results_MR/vid_t3_fused.mp4.\n",
      "Moviepy - Writing video results_MR/vid_t3_fused.mp4\n",
      "\n"
     ]
    },
    {
     "name": "stderr",
     "output_type": "stream",
     "text": [
      "                                                               \r"
     ]
    },
    {
     "name": "stdout",
     "output_type": "stream",
     "text": [
      "Moviepy - Done !\n",
      "Moviepy - video ready results_MR/vid_t3_fused.mp4\n"
     ]
    }
   ],
   "source": [
    "opt_flow.fuseVideoFiles(prefix='vid_t'+str(approach)+'_')"
   ]
  },
  {
   "cell_type": "code",
   "execution_count": 13,
   "id": "3e2949ed-ec3a-401f-bea9-3d1c20e3c9c0",
   "metadata": {
    "execution": {
     "iopub.execute_input": "2022-02-13T19:07:53.872065Z",
     "iopub.status.busy": "2022-02-13T19:07:53.871575Z",
     "iopub.status.idle": "2022-02-13T19:07:53.879695Z",
     "shell.execute_reply": "2022-02-13T19:07:53.879005Z",
     "shell.execute_reply.started": "2022-02-13T19:07:53.872031Z"
    },
    "tags": []
   },
   "outputs": [],
   "source": [
    "opt_flow.cleanupFiles(prefix='vid_t'+str(approach)+'_')"
   ]
  },
  {
   "cell_type": "code",
   "execution_count": 14,
   "id": "2aec9c99-56aa-4db9-88a9-80b08c0de648",
   "metadata": {
    "execution": {
     "iopub.execute_input": "2022-02-13T19:07:53.880973Z",
     "iopub.status.busy": "2022-02-13T19:07:53.880542Z",
     "iopub.status.idle": "2022-02-13T19:07:53.932434Z",
     "shell.execute_reply": "2022-02-13T19:07:53.931904Z",
     "shell.execute_reply.started": "2022-02-13T19:07:53.880948Z"
    },
    "tags": []
   },
   "outputs": [],
   "source": [
    "opt_flow.cleanupFiles(prefix='frame_',suffix='png')"
   ]
  },
  {
   "cell_type": "code",
   "execution_count": 15,
   "id": "41a7e144-0742-40e3-bcf5-545a1f65ea08",
   "metadata": {
    "execution": {
     "iopub.execute_input": "2022-02-13T19:07:53.933422Z",
     "iopub.status.busy": "2022-02-13T19:07:53.933223Z",
     "iopub.status.idle": "2022-02-13T19:07:54.048996Z",
     "shell.execute_reply": "2022-02-13T19:07:54.048422Z",
     "shell.execute_reply.started": "2022-02-13T19:07:53.933400Z"
    },
    "tags": []
   },
   "outputs": [],
   "source": [
    "opt_flow.cleanupFiles(prefix='optical_flow_',suffix='png')"
   ]
  },
  {
   "cell_type": "code",
   "execution_count": 16,
   "id": "6056b812-432d-444a-b1b8-672b1c080dc7",
   "metadata": {
    "execution": {
     "iopub.execute_input": "2022-02-13T19:07:54.050087Z",
     "iopub.status.busy": "2022-02-13T19:07:54.049910Z",
     "iopub.status.idle": "2022-02-13T19:07:54.746996Z",
     "shell.execute_reply": "2022-02-13T19:07:54.746262Z",
     "shell.execute_reply.started": "2022-02-13T19:07:54.050065Z"
    },
    "tags": []
   },
   "outputs": [],
   "source": [
    "opt_flow.cleanupFiles(prefix='np_flow',suffix='npy')"
   ]
  },
  {
   "cell_type": "code",
   "execution_count": null,
   "id": "7452d0a6-7d86-455c-acc2-ed69c4a88594",
   "metadata": {},
   "outputs": [],
   "source": []
  }
 ],
 "metadata": {
  "kernelspec": {
   "display_name": "segment_video_37",
   "language": "python",
   "name": "segment_video_37"
  },
  "language_info": {
   "codemirror_mode": {
    "name": "ipython",
    "version": 3
   },
   "file_extension": ".py",
   "mimetype": "text/x-python",
   "name": "python",
   "nbconvert_exporter": "python",
   "pygments_lexer": "ipython3",
   "version": "3.7.12"
  }
 },
 "nbformat": 4,
 "nbformat_minor": 5
}
