{
 "cells": [
  {
   "cell_type": "code",
   "execution_count": 6,
   "id": "89d80e71-8fd7-4b7b-a87b-814b864a173b",
   "metadata": {
    "execution": {
     "iopub.execute_input": "2022-02-13T18:11:16.924700Z",
     "iopub.status.busy": "2022-02-13T18:11:16.924020Z",
     "iopub.status.idle": "2022-02-13T18:11:16.928263Z",
     "shell.execute_reply": "2022-02-13T18:11:16.927698Z",
     "shell.execute_reply.started": "2022-02-13T18:11:16.924667Z"
    },
    "tags": []
   },
   "outputs": [],
   "source": [
    "import matplotlib.pyplot as plt\n",
    "import cv2 as cv\n",
    "import numpy as np\n",
    "import pylab\n",
    "import imageio\n",
    "from tqdm import tqdm\n",
    "from joblib import Parallel, delayed\n",
    "from videoio import videosave, videoread"
   ]
  },
  {
   "cell_type": "code",
   "execution_count": 2,
   "id": "8d751be5-2210-40fb-af49-612065cd7d46",
   "metadata": {
    "execution": {
     "iopub.execute_input": "2022-02-13T17:57:45.322099Z",
     "iopub.status.busy": "2022-02-13T17:57:45.321635Z",
     "iopub.status.idle": "2022-02-13T17:57:45.325445Z",
     "shell.execute_reply": "2022-02-13T17:57:45.324818Z",
     "shell.execute_reply.started": "2022-02-13T17:57:45.322067Z"
    }
   },
   "outputs": [],
   "source": [
    "\n",
    "filename = \"9210f99e-da25-41ed-9930-433a24105445_preview.mp4\""
   ]
  },
  {
   "cell_type": "code",
   "execution_count": 2,
   "id": "91761c38-1226-4b3a-9245-0d36f292d285",
   "metadata": {
    "execution": {
     "iopub.execute_input": "2022-02-09T20:06:46.896976Z",
     "iopub.status.busy": "2022-02-09T20:06:46.896372Z",
     "iopub.status.idle": "2022-02-09T20:06:46.983773Z",
     "shell.execute_reply": "2022-02-09T20:06:46.983153Z",
     "shell.execute_reply.started": "2022-02-09T20:06:46.896951Z"
    },
    "tags": []
   },
   "outputs": [
    {
     "data": {
      "text/plain": [
       "(0, 5550)"
      ]
     },
     "execution_count": 2,
     "metadata": {},
     "output_type": "execute_result"
    }
   ],
   "source": [
    "\n",
    "\n",
    "first_frame = 0\n",
    "end_frame = vid_0.count_frames()\n",
    "\n",
    "vid_0 = imageio.get_reader(filename,  'ffmpeg')\n",
    "ref_img = vid_0.get_data(first_frame)\n",
    "\n",
    "if not os.path.exists('results_of_MR'):\n",
    "    os.mkdir('results_of_MR')\n",
    "    \n",
    "first_frame, end_frame"
   ]
  },
  {
   "cell_type": "code",
   "execution_count": null,
   "id": "49155bc3-7c7b-4749-87c0-86cc6ed82096",
   "metadata": {
    "tags": []
   },
   "outputs": [],
   "source": []
  },
  {
   "cell_type": "code",
   "execution_count": 3,
   "id": "05376126-e6a4-4b5e-b888-465385b7f066",
   "metadata": {
    "execution": {
     "iopub.execute_input": "2022-02-09T20:06:48.302469Z",
     "iopub.status.busy": "2022-02-09T20:06:48.302089Z",
     "iopub.status.idle": "2022-02-09T20:06:48.311078Z",
     "shell.execute_reply": "2022-02-09T20:06:48.310519Z",
     "shell.execute_reply.started": "2022-02-09T20:06:48.302437Z"
    },
    "tags": []
   },
   "outputs": [],
   "source": [
    "def dispOpticalFlow( Image,Flow,Divisor,name):\n",
    "    \"Display image with a visualisation of a flow over the top. A divisor controls the density of the quiver plot.\"\n",
    "    PictureShape = np.shape(Image)\n",
    "    #determine number of quiver points there will be\n",
    "    Imax = int(PictureShape[0]/Divisor)\n",
    "    Jmax = int(PictureShape[1]/Divisor)\n",
    "    #create a blank mask, on which lines will be drawn.\n",
    "    mask = np.zeros_like(Image)\n",
    "    for i in range(1, Imax):\n",
    "        for j in range(1, Jmax):\n",
    "            X1 = (i)*Divisor\n",
    "            Y1 = (j)*Divisor\n",
    "            X2 = int(X1 + Flow[X1,Y1,1])\n",
    "            Y2 = int(Y1 + Flow[X1,Y1,0])\n",
    "            X2 = np.clip(X2, 0, PictureShape[0])\n",
    "            Y2 = np.clip(Y2, 0, PictureShape[1])\n",
    "            #add all the lines to the mask\n",
    "            mask = cv.line(mask, (Y1,X1),(Y2,X2), [255, 255, 255], 1)\n",
    "    #superpose lines onto image\n",
    "    \n",
    "    Image1 = np.zeros((np.shape(Image)[0],np.shape(Image)[1],3),np.uint8)\n",
    "    Image1[:,:,0] = Image\n",
    "    Image1[:,:,1] = Image\n",
    "    Image1[:,:,2] = Image\n",
    "    \n",
    "    Image1[:,:,1] = cv.add(Image1[:,:,1],mask)\n",
    "\n",
    "    return Image1/255.0"
   ]
  },
  {
   "cell_type": "code",
   "execution_count": 4,
   "id": "ed671b4e-64fd-4287-a081-26ac7a9044b3",
   "metadata": {
    "execution": {
     "iopub.execute_input": "2022-02-09T20:06:48.561835Z",
     "iopub.status.busy": "2022-02-09T20:06:48.561069Z",
     "iopub.status.idle": "2022-02-09T20:06:48.567186Z",
     "shell.execute_reply": "2022-02-09T20:06:48.566682Z",
     "shell.execute_reply.started": "2022-02-09T20:06:48.561806Z"
    },
    "tags": []
   },
   "outputs": [],
   "source": [
    "def performOpticalFlowAndSave(frame):\n",
    "    \n",
    "    if not os.path.exists('results_of_MR/frame_'+str(frame)+'.png'):\n",
    "    \n",
    "        vid0 = imageio.get_reader(filename,  'ffmpeg') # hack around a bug in the implementation\n",
    "        vid1 = imageio.get_reader(filename,  'ffmpeg')\n",
    "\n",
    "        prev_frame_gray = cv.cvtColor(vid0.get_data(frame-1), cv.COLOR_BGR2GRAY)\n",
    "        new_frame_gray = cv.cvtColor(vid1.get_data(frame), cv.COLOR_BGR2GRAY)\n",
    "\n",
    "        # Calculates dense optical flow by Farneback method\n",
    "        flow = cv.calcOpticalFlowFarneback(prev_frame_gray, new_frame_gray, \n",
    "                                           None,\n",
    "                                           0.5, 3, 15, 3, 5, 1.2, 0)\n",
    "\n",
    "        np.save('results_of_MR/np_flow_'+str(frame)+'.npy',flow)\n",
    "        cv2.imwrite('results_of_MR/optical_flow_'+str(frame)+'.png',dispOpticalFlow(prev_frame_gray,flow,5,'test')*255)\n",
    "        cv2.imwrite('results_of_MR/frame_'+str(frame)+'.png',prev_frame_gray)\n",
    "\n",
    "    "
   ]
  },
  {
   "cell_type": "code",
   "execution_count": 5,
   "id": "3ed1d2e8-437d-4e96-bd3e-c5d540a6026b",
   "metadata": {
    "execution": {
     "iopub.execute_input": "2022-02-09T20:06:50.598073Z",
     "iopub.status.busy": "2022-02-09T20:06:50.597410Z",
     "iopub.status.idle": "2022-02-09T20:06:50.600749Z",
     "shell.execute_reply": "2022-02-09T20:06:50.600238Z",
     "shell.execute_reply.started": "2022-02-09T20:06:50.598046Z"
    },
    "tags": []
   },
   "outputs": [],
   "source": [
    "#Parallel(n_jobs=-1)(delayed(performOpticalFlowAndSave)(i) for i in range(first_frame+1,end_frame+1))"
   ]
  },
  {
   "cell_type": "code",
   "execution_count": 6,
   "id": "547d892c-436e-4f7b-95f4-579001d9caed",
   "metadata": {
    "execution": {
     "iopub.execute_input": "2022-02-09T20:06:51.419250Z",
     "iopub.status.busy": "2022-02-09T20:06:51.418728Z",
     "iopub.status.idle": "2022-02-09T20:06:51.422714Z",
     "shell.execute_reply": "2022-02-09T20:06:51.422219Z",
     "shell.execute_reply.started": "2022-02-09T20:06:51.419221Z"
    },
    "tags": []
   },
   "outputs": [
    {
     "data": {
      "text/plain": [
       "'9210f99e-da25-41ed-9930-433a24105445_preview.mp4'"
      ]
     },
     "execution_count": 6,
     "metadata": {},
     "output_type": "execute_result"
    }
   ],
   "source": [
    "filename"
   ]
  },
  {
   "cell_type": "code",
   "execution_count": 7,
   "id": "f5f85623-d123-4bd8-91ce-5066e2861c61",
   "metadata": {
    "execution": {
     "iopub.execute_input": "2022-02-09T20:06:52.149898Z",
     "iopub.status.busy": "2022-02-09T20:06:52.149319Z",
     "iopub.status.idle": "2022-02-09T20:06:52.154314Z",
     "shell.execute_reply": "2022-02-09T20:06:52.153806Z",
     "shell.execute_reply.started": "2022-02-09T20:06:52.149862Z"
    },
    "tags": []
   },
   "outputs": [
    {
     "data": {
      "text/plain": [
       "\"\\n#if not os.path.exists('results_of_MR/frame_'+str(frame)+'.png'):\\nframe = int(4535)\\n\\nvid0 = imageio.get_reader(filename,  'ffmpeg')\\nvid1 = imageio.get_reader(filename,  'ffmpeg')\\n\\nprev_frame_gray = cv.cvtColor(vid0.get_data(frame-1), cv.COLOR_BGR2GRAY)\\nnew_frame_gray = cv.cvtColor(vid1.get_data(frame), cv.COLOR_BGR2GRAY)\\n\\n# Calculates dense optical flow by Farneback method\\nflow = cv.calcOpticalFlowFarneback(prev_frame_gray, new_frame_gray, \\n                                   None,\\n                                   0.5, 3, 15, 3, 5, 1.2, 0)\\n\\nnp.save('results_of_MR/np_flow_'+str(frame)+'.npy',flow)\\ncv2.imwrite('results_of_MR/optical_flow_'+str(frame)+'.png',dispOpticalFlow(prev_frame_gray,flow,5,'test')*255)\\ncv2.imwrite('results_of_MR/frame_'+str(frame)+'.png',prev_frame_gray)\\n\""
      ]
     },
     "execution_count": 7,
     "metadata": {},
     "output_type": "execute_result"
    }
   ],
   "source": [
    "'''\n",
    "#if not os.path.exists('results_of_MR/frame_'+str(frame)+'.png'):\n",
    "frame = int(4535)\n",
    "\n",
    "vid0 = imageio.get_reader(filename,  'ffmpeg')\n",
    "vid1 = imageio.get_reader(filename,  'ffmpeg')\n",
    "\n",
    "prev_frame_gray = cv.cvtColor(vid0.get_data(frame-1), cv.COLOR_BGR2GRAY)\n",
    "new_frame_gray = cv.cvtColor(vid1.get_data(frame), cv.COLOR_BGR2GRAY)\n",
    "\n",
    "# Calculates dense optical flow by Farneback method\n",
    "flow = cv.calcOpticalFlowFarneback(prev_frame_gray, new_frame_gray, \n",
    "                                   None,\n",
    "                                   0.5, 3, 15, 3, 5, 1.2, 0)\n",
    "\n",
    "np.save('results_of_MR/np_flow_'+str(frame)+'.npy',flow)\n",
    "cv2.imwrite('results_of_MR/optical_flow_'+str(frame)+'.png',dispOpticalFlow(prev_frame_gray,flow,5,'test')*255)\n",
    "cv2.imwrite('results_of_MR/frame_'+str(frame)+'.png',prev_frame_gray)\n",
    "'''"
   ]
  },
  {
   "cell_type": "code",
   "execution_count": 8,
   "id": "23fa9ef6-96e1-4f8e-a32c-53b0003ae920",
   "metadata": {
    "execution": {
     "iopub.execute_input": "2022-02-09T20:06:53.058864Z",
     "iopub.status.busy": "2022-02-09T20:06:53.058215Z",
     "iopub.status.idle": "2022-02-09T20:06:53.061498Z",
     "shell.execute_reply": "2022-02-09T20:06:53.060942Z",
     "shell.execute_reply.started": "2022-02-09T20:06:53.058836Z"
    },
    "tags": []
   },
   "outputs": [],
   "source": [
    "#plt.imshow(dispOpticalFlow(prev_frame_gray,flow,5,'test')*255)"
   ]
  },
  {
   "cell_type": "code",
   "execution_count": 9,
   "id": "d9236e8a-1e09-4acf-8b2a-db8b51077043",
   "metadata": {
    "execution": {
     "iopub.execute_input": "2022-02-09T20:06:53.455581Z",
     "iopub.status.busy": "2022-02-09T20:06:53.455035Z",
     "iopub.status.idle": "2022-02-09T20:06:53.578273Z",
     "shell.execute_reply": "2022-02-09T20:06:53.577556Z",
     "shell.execute_reply.started": "2022-02-09T20:06:53.455551Z"
    },
    "tags": []
   },
   "outputs": [
    {
     "ename": "NameError",
     "evalue": "name 'prev_frame_gray' is not defined",
     "output_type": "error",
     "traceback": [
      "\u001b[0;31m---------------------------------------------------------------------------\u001b[0m",
      "\u001b[0;31mNameError\u001b[0m                                 Traceback (most recent call last)",
      "\u001b[0;32m/tmp/ipykernel_23916/2225446810.py\u001b[0m in \u001b[0;36m<module>\u001b[0;34m\u001b[0m\n\u001b[0;32m----> 1\u001b[0;31m \u001b[0mplt\u001b[0m\u001b[0;34m.\u001b[0m\u001b[0mimshow\u001b[0m\u001b[0;34m(\u001b[0m\u001b[0mprev_frame_gray\u001b[0m\u001b[0;34m)\u001b[0m\u001b[0;34m\u001b[0m\u001b[0;34m\u001b[0m\u001b[0m\n\u001b[0m",
      "\u001b[0;31mNameError\u001b[0m: name 'prev_frame_gray' is not defined"
     ]
    }
   ],
   "source": [
    "plt.imshow(prev_frame_gray)"
   ]
  },
  {
   "cell_type": "code",
   "execution_count": 10,
   "id": "8cd72b6f-7182-4f89-9d78-12e8410ca4bd",
   "metadata": {
    "execution": {
     "iopub.execute_input": "2022-02-09T20:06:54.043727Z",
     "iopub.status.busy": "2022-02-09T20:06:54.043177Z",
     "iopub.status.idle": "2022-02-09T20:06:54.052189Z",
     "shell.execute_reply": "2022-02-09T20:06:54.051552Z",
     "shell.execute_reply.started": "2022-02-09T20:06:54.043697Z"
    },
    "tags": []
   },
   "outputs": [
    {
     "ename": "NameError",
     "evalue": "name 'new_frame_gray' is not defined",
     "output_type": "error",
     "traceback": [
      "\u001b[0;31m---------------------------------------------------------------------------\u001b[0m",
      "\u001b[0;31mNameError\u001b[0m                                 Traceback (most recent call last)",
      "\u001b[0;32m/tmp/ipykernel_23916/2307793332.py\u001b[0m in \u001b[0;36m<module>\u001b[0;34m\u001b[0m\n\u001b[0;32m----> 1\u001b[0;31m \u001b[0mplt\u001b[0m\u001b[0;34m.\u001b[0m\u001b[0mimshow\u001b[0m\u001b[0;34m(\u001b[0m\u001b[0mnew_frame_gray\u001b[0m\u001b[0;34m)\u001b[0m\u001b[0;34m\u001b[0m\u001b[0;34m\u001b[0m\u001b[0m\n\u001b[0m",
      "\u001b[0;31mNameError\u001b[0m: name 'new_frame_gray' is not defined"
     ]
    }
   ],
   "source": [
    "plt.imshow(new_frame_gray)"
   ]
  },
  {
   "cell_type": "code",
   "execution_count": 11,
   "id": "43ccc514-7449-4fa8-b9d4-a58c1ff01b1e",
   "metadata": {
    "execution": {
     "iopub.execute_input": "2022-02-09T20:06:54.709241Z",
     "iopub.status.busy": "2022-02-09T20:06:54.708758Z",
     "iopub.status.idle": "2022-02-09T20:06:54.713129Z",
     "shell.execute_reply": "2022-02-09T20:06:54.712608Z",
     "shell.execute_reply.started": "2022-02-09T20:06:54.709212Z"
    },
    "tags": []
   },
   "outputs": [
    {
     "name": "stdout",
     "output_type": "stream",
     "text": [
      "12\n"
     ]
    }
   ],
   "source": [
    "INTERVAL = 500\n",
    "num_chunks = int(np.ceil((end_frame-first_frame)/INTERVAL))\n",
    "print(num_chunks)"
   ]
  },
  {
   "cell_type": "code",
   "execution_count": 12,
   "id": "32f93376-f335-4da1-afb8-4103b75cad3e",
   "metadata": {
    "execution": {
     "iopub.execute_input": "2022-02-09T20:06:56.123512Z",
     "iopub.status.busy": "2022-02-09T20:06:56.122849Z",
     "iopub.status.idle": "2022-02-09T20:13:08.780833Z",
     "shell.execute_reply": "2022-02-09T20:13:08.779892Z",
     "shell.execute_reply.started": "2022-02-09T20:06:56.123482Z"
    },
    "tags": []
   },
   "outputs": [
    {
     "name": "stderr",
     "output_type": "stream",
     "text": [
      "100%|██████████| 500/500 [00:10<00:00, 46.50it/s]\n",
      "100%|██████████| 500/500 [00:12<00:00, 39.27it/s]\n",
      "100%|██████████| 500/500 [00:11<00:00, 45.21it/s]\n",
      "100%|██████████| 500/500 [00:13<00:00, 38.42it/s]\n",
      "100%|██████████| 500/500 [00:12<00:00, 40.35it/s]\n",
      "100%|██████████| 500/500 [00:12<00:00, 40.95it/s]\n",
      "100%|██████████| 500/500 [00:12<00:00, 40.91it/s]\n",
      "100%|██████████| 500/500 [00:12<00:00, 40.60it/s]\n",
      "100%|██████████| 500/500 [00:11<00:00, 44.20it/s]\n",
      "100%|██████████| 500/500 [00:10<00:00, 48.28it/s]\n",
      "100%|██████████| 500/500 [00:11<00:00, 44.65it/s]\n",
      "100%|██████████| 50/50 [00:00<00:00, 67.77it/s]\n"
     ]
    }
   ],
   "source": [
    "for chunk in range(num_chunks):\n",
    "    \n",
    "    first_frame_chunk = first_frame+chunk*INTERVAL\n",
    "    end_frame_chunk = first_frame+(chunk+1)*INTERVAL\n",
    "    if end_frame_chunk > end_frame:\n",
    "        end_frame_chunk = end_frame\n",
    "\n",
    "    opt_flow = np.zeros((end_frame_chunk-first_frame_chunk,ref_img.shape[0],ref_img.shape[1],ref_img.shape[2]),np.uint8)\n",
    "    video_np = np.zeros((end_frame_chunk-first_frame_chunk,ref_img.shape[0],ref_img.shape[1],ref_img.shape[2]),np.uint8)\n",
    "\n",
    "    kk10 = 0 \n",
    "    for frame in tqdm(range(first_frame_chunk+1,end_frame_chunk+1)):\n",
    "        img_cv = cv2.imread('results_of_MR/frame_'+str(frame)+'.png')\n",
    "        opt_cv = cv2.imread('results_of_MR/optical_flow_'+str(frame)+'.png')\n",
    "\n",
    "        opt_flow[kk10,:,:,:] = opt_cv\n",
    "        video_np[kk10,:,:,:] = img_cv\n",
    "        kk10+=1\n",
    "    \n",
    "    videosave(\"out_\"+str(chunk)+\".mp4\", opt_flow/255)\n",
    "    videosave(\"vid_\"+str(chunk)+\".mp4\", video_np/255)"
   ]
  },
  {
   "cell_type": "code",
   "execution_count": null,
   "id": "d945cd28-0e04-42c1-a2d2-d193a42eaf81",
   "metadata": {
    "execution": {
     "iopub.status.busy": "2022-02-09T19:25:31.341086Z",
     "iopub.status.idle": "2022-02-09T19:25:31.341303Z",
     "shell.execute_reply": "2022-02-09T19:25:31.341200Z",
     "shell.execute_reply.started": "2022-02-09T19:25:31.341188Z"
    },
    "tags": []
   },
   "outputs": [],
   "source": [
    "'''\n",
    "# Computes the magnitude and angle of the 2D vectors\n",
    "magnitude, angle = cv.cartToPolar(flow[..., 0], flow[..., 1])\n",
    "\n",
    "# Sets image hue according to the optical flow \n",
    "# direction\n",
    "mask[..., 0] = angle * 180 / np.pi / 2\n",
    "\n",
    "# Sets image value according to the optical flow\n",
    "# magnitude (normalized)\n",
    "mask[..., 2] = cv.normalize(magnitude, None, 0, 255, cv.NORM_MINMAX)\n",
    "\n",
    "# Converts HSV to RGB (BGR) color representation\n",
    "rgb = cv.cvtColor(mask, cv.COLOR_HSV2BGR)\n",
    "\n",
    "#opt_flow[kk10,:,:,:] = dispOpticalFlow(prev_frame_gray,flow,5,'test')\n",
    "#video_np[kk10,:,:,0] = prev_frame_gray\n",
    "#video_np[kk10,:,:,1] = prev_frame_gray\n",
    "#video_np[kk10,:,:,2] = prev_frame_gray\n",
    "'''\n"
   ]
  },
  {
   "cell_type": "code",
   "execution_count": null,
   "id": "0093d676-d483-4584-b4f8-19d3365fb630",
   "metadata": {
    "tags": []
   },
   "outputs": [],
   "source": []
  },
  {
   "cell_type": "code",
   "execution_count": null,
   "id": "3941c774-e791-4904-adc2-02564803eb94",
   "metadata": {},
   "outputs": [],
   "source": []
  }
 ],
 "metadata": {
  "kernelspec": {
   "display_name": "segment_video_37",
   "language": "python",
   "name": "segment_video_37"
  },
  "language_info": {
   "codemirror_mode": {
    "name": "ipython",
    "version": 3
   },
   "file_extension": ".py",
   "mimetype": "text/x-python",
   "name": "python",
   "nbconvert_exporter": "python",
   "pygments_lexer": "ipython3",
   "version": "3.7.12"
  }
 },
 "nbformat": 4,
 "nbformat_minor": 5
}
