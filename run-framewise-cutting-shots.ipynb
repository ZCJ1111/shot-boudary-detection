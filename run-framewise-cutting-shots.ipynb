{
 "cells": [
  {
   "cell_type": "code",
   "execution_count": 1,
   "id": "447727e9-61f7-44b1-9b5d-873b21907cd4",
   "metadata": {
    "execution": {
     "iopub.execute_input": "2022-08-01T16:36:19.756369Z",
     "iopub.status.busy": "2022-08-01T16:36:19.755956Z",
     "iopub.status.idle": "2022-08-01T16:36:20.788657Z",
     "shell.execute_reply": "2022-08-01T16:36:20.787874Z",
     "shell.execute_reply.started": "2022-08-01T16:36:19.756309Z"
    },
    "tags": []
   },
   "outputs": [],
   "source": [
    "from glob import glob\n",
    "from utilities_frame_by_frame import *\n",
    "import numpy as np"
   ]
  },
  {
   "cell_type": "code",
   "execution_count": 2,
   "id": "723c99e7-b8e4-433a-9a22-a2a64699d98a",
   "metadata": {
    "execution": {
     "iopub.execute_input": "2022-08-01T16:36:20.790044Z",
     "iopub.status.busy": "2022-08-01T16:36:20.789776Z",
     "iopub.status.idle": "2022-08-01T16:36:20.793933Z",
     "shell.execute_reply": "2022-08-01T16:36:20.793335Z",
     "shell.execute_reply.started": "2022-08-01T16:36:20.790022Z"
    },
    "tags": []
   },
   "outputs": [],
   "source": [
    "#videoRead_batches(video_path, start_frame, end_frame, INTERVAL)"
   ]
  },
  {
   "cell_type": "code",
   "execution_count": 16,
   "id": "cd1e54e9-0cd3-41f0-8083-0d6c91dcf61e",
   "metadata": {
    "execution": {
     "iopub.execute_input": "2022-08-01T16:18:44.994784Z",
     "iopub.status.busy": "2022-08-01T16:18:44.993993Z",
     "iopub.status.idle": "2022-08-01T16:18:45.000531Z",
     "shell.execute_reply": "2022-08-01T16:18:44.999824Z",
     "shell.execute_reply.started": "2022-08-01T16:18:44.994757Z"
    },
    "tags": []
   },
   "outputs": [
    {
     "data": {
      "text/plain": [
       "(['output_videos/0.txt'], 5)"
      ]
     },
     "execution_count": 16,
     "metadata": {},
     "output_type": "execute_result"
    }
   ],
   "source": [
    "txt_glob = list(np.sort(glob('output_videos/*txt')))\n",
    "txt_glob[:1], len(txt_glob)"
   ]
  },
  {
   "cell_type": "code",
   "execution_count": 17,
   "id": "382c5697-961b-48b6-8c9d-0ed9a796e92a",
   "metadata": {
    "execution": {
     "iopub.execute_input": "2022-08-01T16:18:45.377300Z",
     "iopub.status.busy": "2022-08-01T16:18:45.376509Z",
     "iopub.status.idle": "2022-08-01T16:18:45.382700Z",
     "shell.execute_reply": "2022-08-01T16:18:45.381917Z",
     "shell.execute_reply.started": "2022-08-01T16:18:45.377272Z"
    },
    "tags": []
   },
   "outputs": [],
   "source": [
    "content = []\n",
    "for i in range(len(txt_glob)):\n",
    "    file = 'output_videos/'+str(i)+'.txt'\n",
    "    with open(file,'r') as f:\n",
    "        content += [int(line.rstrip('\\n')) for line in f]"
   ]
  },
  {
   "cell_type": "code",
   "execution_count": 18,
   "id": "ca9500b8-2239-4a1b-916d-a83bbad1c4be",
   "metadata": {
    "execution": {
     "iopub.execute_input": "2022-08-01T16:18:46.606455Z",
     "iopub.status.busy": "2022-08-01T16:18:46.605789Z",
     "iopub.status.idle": "2022-08-01T16:18:46.610421Z",
     "shell.execute_reply": "2022-08-01T16:18:46.609665Z",
     "shell.execute_reply.started": "2022-08-01T16:18:46.606428Z"
    },
    "tags": []
   },
   "outputs": [],
   "source": [
    "diff_vect = np.diff(content)\n",
    "filename = 'e77f1d3c-959e-4b48-b101-76f70b183bc5.mp4'\n",
    "filename = 'wpt_trimmed.mp4'"
   ]
  },
  {
   "cell_type": "code",
   "execution_count": 19,
   "id": "f623fcec-81b6-415c-b616-cb1cb0c7dc08",
   "metadata": {
    "execution": {
     "iopub.execute_input": "2022-08-01T16:18:48.079589Z",
     "iopub.status.busy": "2022-08-01T16:18:48.078930Z",
     "iopub.status.idle": "2022-08-01T16:18:48.084536Z",
     "shell.execute_reply": "2022-08-01T16:18:48.083679Z",
     "shell.execute_reply.started": "2022-08-01T16:18:48.079558Z"
    },
    "tags": []
   },
   "outputs": [],
   "source": [
    "def cutVideo(start_frames, end_frames, filename, i):\n",
    "\n",
    "    idx_start = start_frames[i]\n",
    "    idx_end = end_frames[i]\n",
    "    frames, fps = videoRead(filename, idx_start, idx_end)\n",
    "    writeVideos(str(i), frames, root='cut_videos')\n",
    "    with open('idx/'+str(i)+'.txt','w+') as f:\n",
    "        f.write(str(idx_start)+'_'+str(idx_end)+'\\n')"
   ]
  },
  {
   "cell_type": "code",
   "execution_count": 20,
   "id": "093f73a7-5eba-4bf9-a000-e4bdc4c1789b",
   "metadata": {
    "execution": {
     "iopub.execute_input": "2022-08-01T16:18:48.801770Z",
     "iopub.status.busy": "2022-08-01T16:18:48.800963Z",
     "iopub.status.idle": "2022-08-01T16:18:48.806015Z",
     "shell.execute_reply": "2022-08-01T16:18:48.805301Z",
     "shell.execute_reply.started": "2022-08-01T16:18:48.801743Z"
    },
    "tags": []
   },
   "outputs": [],
   "source": [
    "end_frames = [content[i] for i in list(np.where(diff_vect>1)[0])]\n",
    "start_frames = [0] + [i+1 for i in end_frames[:-1]]"
   ]
  },
  {
   "cell_type": "code",
   "execution_count": 7,
   "id": "11b78c45-2664-40e6-9ee9-d26fe8951383",
   "metadata": {
    "execution": {
     "iopub.execute_input": "2022-08-01T12:39:42.627277Z",
     "iopub.status.busy": "2022-08-01T12:39:42.626839Z",
     "iopub.status.idle": "2022-08-01T12:39:42.630537Z",
     "shell.execute_reply": "2022-08-01T12:39:42.629869Z",
     "shell.execute_reply.started": "2022-08-01T12:39:42.627255Z"
    },
    "tags": []
   },
   "outputs": [],
   "source": [
    "\n",
    "#frames, fps = videoRead(filename, start_frames[1000], end_frames[1000])"
   ]
  },
  {
   "cell_type": "code",
   "execution_count": 25,
   "id": "b1f3b226-04a7-43c9-bc8a-e0e7dbb21b76",
   "metadata": {
    "execution": {
     "iopub.execute_input": "2022-08-01T16:31:44.251163Z",
     "iopub.status.busy": "2022-08-01T16:31:44.250251Z",
     "iopub.status.idle": "2022-08-01T16:31:44.256607Z",
     "shell.execute_reply": "2022-08-01T16:31:44.255995Z",
     "shell.execute_reply.started": "2022-08-01T16:31:44.251130Z"
    },
    "tags": []
   },
   "outputs": [
    {
     "data": {
      "text/plain": [
       "356"
      ]
     },
     "execution_count": 25,
     "metadata": {},
     "output_type": "execute_result"
    },
    {
     "name": "stderr",
     "output_type": "stream",
     "text": [
      "\n",
      "\n",
      "\n",
      "\n",
      "\n",
      "\n",
      "\n",
      "\n",
      "\n",
      "\n",
      "\n",
      "\n",
      "\n",
      "\n",
      "\n",
      "\n",
      "\n",
      "\n",
      "\n",
      "\n",
      "\n",
      "\n",
      "\n",
      "\n",
      "\n",
      "\n",
      "\n",
      "\n",
      "\n",
      "\n",
      "\n",
      "\n",
      "\n"
     ]
    }
   ],
   "source": [
    "len(start_frames)"
   ]
  },
  {
   "cell_type": "code",
   "execution_count": 24,
   "id": "e62ebe67-1438-48b8-a14b-50b8cadcabaa",
   "metadata": {
    "execution": {
     "iopub.execute_input": "2022-08-01T16:19:18.171203Z",
     "iopub.status.busy": "2022-08-01T16:19:18.170389Z",
     "iopub.status.idle": "2022-08-01T16:29:29.670879Z",
     "shell.execute_reply": "2022-08-01T16:29:29.669622Z",
     "shell.execute_reply.started": "2022-08-01T16:19:18.171176Z"
    },
    "tags": []
   },
   "outputs": [
    {
     "name": "stderr",
     "output_type": "stream",
     "text": [
      "OpenCV: FFMPEG: tag 0x5634504d/'MP4V' is not supported with codec id 12 and format 'mp4 / MP4 (MPEG-4 Part 14)'\n",
      "OpenCV: FFMPEG: fallback to use tag 0x7634706d/'mp4v'\n",
      " 13%|█▎        | 25/194 [00:04<00:44,  3.82it/s]OpenCV: FFMPEG: tag 0x5634504d/'MP4V' is not supported with codec id 12 and format 'mp4 / MP4 (MPEG-4 Part 14)'\n",
      "OpenCV: FFMPEG: fallback to use tag 0x7634706d/'mp4v'\n",
      " 19%|█▉        | 31/159 [00:04<00:13,  9.32it/s]OpenCV: FFMPEG: tag 0x5634504d/'MP4V' is not supported with codec id 12 and format 'mp4 / MP4 (MPEG-4 Part 14)'\n",
      "OpenCV: FFMPEG: fallback to use tag 0x7634706d/'mp4v'\n",
      "OpenCV: FFMPEG: tag 0x5634504d/'MP4V' is not supported with codec id 12 and format 'mp4 / MP4 (MPEG-4 Part 14)'\n",
      "OpenCV: FFMPEG: fallback to use tag 0x7634706d/'mp4v'\n",
      " 37%|███▋      | 72/194 [00:09<00:21,  5.66it/s]OpenCV: FFMPEG: tag 0x5634504d/'MP4V' is not supported with codec id 12 and format 'mp4 / MP4 (MPEG-4 Part 14)'\n",
      "OpenCV: FFMPEG: fallback to use tag 0x7634706d/'mp4v'\n",
      " 33%|███▎      | 53/159 [00:08<00:13,  7.75it/s]OpenCV: FFMPEG: tag 0x5634504d/'MP4V' is not supported with codec id 12 and format 'mp4 / MP4 (MPEG-4 Part 14)'\n",
      "OpenCV: FFMPEG: fallback to use tag 0x7634706d/'mp4v'\n",
      " 59%|█████▉    | 115/194 [00:13<00:08,  8.98it/s]OpenCV: FFMPEG: tag 0x5634504d/'MP4V' is not supported with codec id 12 and format 'mp4 / MP4 (MPEG-4 Part 14)'\n",
      "OpenCV: FFMPEG: fallback to use tag 0x7634706d/'mp4v'\n",
      " 26%|██▌       | 53/205 [00:06<00:22,  6.73it/s]OpenCV: FFMPEG: tag 0x5634504d/'MP4V' is not supported with codec id 12 and format 'mp4 / MP4 (MPEG-4 Part 14)'\n",
      "OpenCV: FFMPEG: fallback to use tag 0x7634706d/'mp4v'\n",
      " 20%|█▉        | 25/127 [00:03<00:10,  9.57it/s]OpenCV: FFMPEG: tag 0x5634504d/'MP4V' is not supported with codec id 12 and format 'mp4 / MP4 (MPEG-4 Part 14)'\n",
      "OpenCV: FFMPEG: fallback to use tag 0x7634706d/'mp4v'\n",
      " 96%|█████████▌| 186/194 [00:21<00:00, 10.66it/s]OpenCV: FFMPEG: tag 0x5634504d/'MP4V' is not supported with codec id 12 and format 'mp4 / MP4 (MPEG-4 Part 14)'\n",
      "OpenCV: FFMPEG: fallback to use tag 0x7634706d/'mp4v'\n",
      " 37%|███▋      | 70/188 [00:08<00:15,  7.76it/s]]OpenCV: FFMPEG: tag 0x5634504d/'MP4V' is not supported with codec id 12 and format 'mp4 / MP4 (MPEG-4 Part 14)'\n",
      "OpenCV: FFMPEG: fallback to use tag 0x7634706d/'mp4v'\n",
      " 68%|██████▊   | 77/113 [00:09<00:05,  6.58it/s]OpenCV: FFMPEG: tag 0x5634504d/'MP4V' is not supported with codec id 12 and format 'mp4 / MP4 (MPEG-4 Part 14)'\n",
      "OpenCV: FFMPEG: fallback to use tag 0x7634706d/'mp4v'\n",
      " 81%|████████▏ | 92/113 [00:11<00:02,  7.78it/s]OpenCV: FFMPEG: tag 0x5634504d/'MP4V' is not supported with codec id 12 and format 'mp4 / MP4 (MPEG-4 Part 14)'\n",
      "OpenCV: FFMPEG: fallback to use tag 0x7634706d/'mp4v'\n",
      " 87%|████████▋ | 178/205 [00:19<00:02, 12.54it/s]OpenCV: FFMPEG: tag 0x5634504d/'MP4V' is not supported with codec id 12 and format 'mp4 / MP4 (MPEG-4 Part 14)'\n",
      "OpenCV: FFMPEG: fallback to use tag 0x7634706d/'mp4v'\n",
      " 90%|████████▉ | 184/205 [00:19<00:01, 12.61it/s]OpenCV: FFMPEG: tag 0x5634504d/'MP4V' is not supported with codec id 12 and format 'mp4 / MP4 (MPEG-4 Part 14)'\n",
      "OpenCV: FFMPEG: fallback to use tag 0x7634706d/'mp4v'\n",
      " 53%|█████▎    | 45/85 [00:05<00:06,  5.80it/s]OpenCV: FFMPEG: tag 0x5634504d/'MP4V' is not supported with codec id 12 and format 'mp4 / MP4 (MPEG-4 Part 14)'\n",
      "OpenCV: FFMPEG: fallback to use tag 0x7634706d/'mp4v'\n",
      "OpenCV: FFMPEG: tag 0x5634504d/'MP4V' is not supported with codec id 12 and format 'mp4 / MP4 (MPEG-4 Part 14)'\n",
      "OpenCV: FFMPEG: fallback to use tag 0x7634706d/'mp4v'\n",
      " 94%|█████████▎| 192/205 [00:21<00:02,  5.69it/s]OpenCV: FFMPEG: tag 0x5634504d/'MP4V' is not supported with codec id 12 and format 'mp4 / MP4 (MPEG-4 Part 14)'\n",
      "OpenCV: FFMPEG: fallback to use tag 0x7634706d/'mp4v'\n",
      " 99%|█████████▉| 203/205 [00:22<00:00,  8.64it/s]OpenCV: FFMPEG: tag 0x5634504d/'MP4V' is not supported with codec id 12 and format 'mp4 / MP4 (MPEG-4 Part 14)'\n",
      "OpenCV: FFMPEG: fallback to use tag 0x7634706d/'mp4v'\n",
      " 66%|██████▌   | 56/85 [00:07<00:04,  6.19it/s]OpenCV: FFMPEG: tag 0x5634504d/'MP4V' is not supported with codec id 12 and format 'mp4 / MP4 (MPEG-4 Part 14)'\n",
      "OpenCV: FFMPEG: fallback to use tag 0x7634706d/'mp4v'\n",
      " 61%|██████    | 78/128 [00:08<00:06,  7.64it/s]]OpenCV: FFMPEG: tag 0x5634504d/'MP4V' is not supported with codec id 12 and format 'mp4 / MP4 (MPEG-4 Part 14)'\n",
      "OpenCV: FFMPEG: fallback to use tag 0x7634706d/'mp4v'\n",
      " 80%|████████  | 32/40 [00:03<00:00,  8.48it/s]OpenCV: FFMPEG: tag 0x5634504d/'MP4V' is not supported with codec id 12 and format 'mp4 / MP4 (MPEG-4 Part 14)'\n",
      "OpenCV: FFMPEG: fallback to use tag 0x7634706d/'mp4v'\n",
      " 29%|██▉       | 14/48 [00:01<00:03, 10.69it/s]OpenCV: FFMPEG: tag 0x5634504d/'MP4V' is not supported with codec id 12 and format 'mp4 / MP4 (MPEG-4 Part 14)'\n",
      "OpenCV: FFMPEG: fallback to use tag 0x7634706d/'mp4v'\n",
      " 62%|██████▎   | 30/48 [00:03<00:01, 12.05it/s]OpenCV: FFMPEG: tag 0x5634504d/'MP4V' is not supported with codec id 12 and format 'mp4 / MP4 (MPEG-4 Part 14)'\n",
      "OpenCV: FFMPEG: fallback to use tag 0x7634706d/'mp4v'\n",
      " 97%|█████████▋| 124/128 [00:14<00:00,  7.40it/s]OpenCV: FFMPEG: tag 0x5634504d/'MP4V' is not supported with codec id 12 and format 'mp4 / MP4 (MPEG-4 Part 14)'\n",
      "OpenCV: FFMPEG: fallback to use tag 0x7634706d/'mp4v'\n",
      " 54%|█████▍    | 51/94 [00:05<00:03, 11.97it/s]]]OpenCV: FFMPEG: tag 0x5634504d/'MP4V' is not supported with codec id 12 and format 'mp4 / MP4 (MPEG-4 Part 14)'\n",
      "OpenCV: FFMPEG: fallback to use tag 0x7634706d/'mp4v'\n",
      "OpenCV: FFMPEG: tag 0x5634504d/'MP4V' is not supported with codec id 12 and format 'mp4 / MP4 (MPEG-4 Part 14)'\n",
      "OpenCV: FFMPEG: fallback to use tag 0x7634706d/'mp4v'\n",
      "  5%|▍         | 4/87 [00:00<00:12,  6.45it/s]OpenCV: FFMPEG: tag 0x5634504d/'MP4V' is not supported with codec id 12 and format 'mp4 / MP4 (MPEG-4 Part 14)'\n",
      "OpenCV: FFMPEG: fallback to use tag 0x7634706d/'mp4v'\n",
      " 34%|███▍      | 65/192 [00:06<00:08, 14.22it/s]OpenCV: FFMPEG: tag 0x5634504d/'MP4V' is not supported with codec id 12 and format 'mp4 / MP4 (MPEG-4 Part 14)'\n",
      "OpenCV: FFMPEG: fallback to use tag 0x7634706d/'mp4v'\n",
      " 24%|██▍       | 23/96 [00:02<00:08,  9.12it/s]OpenCV: FFMPEG: tag 0x5634504d/'MP4V' is not supported with codec id 12 and format 'mp4 / MP4 (MPEG-4 Part 14)'\n",
      "OpenCV: FFMPEG: fallback to use tag 0x7634706d/'mp4v'\n",
      " 56%|█████▌    | 39/70 [00:03<00:02, 10.45it/s]OpenCV: FFMPEG: tag 0x5634504d/'MP4V' is not supported with codec id 12 and format 'mp4 / MP4 (MPEG-4 Part 14)'\n",
      "OpenCV: FFMPEG: fallback to use tag 0x7634706d/'mp4v'\n",
      " 93%|█████████▎| 65/70 [00:06<00:00,  9.64it/s]OpenCV: FFMPEG: tag 0x5634504d/'MP4V' is not supported with codec id 12 and format 'mp4 / MP4 (MPEG-4 Part 14)'\n",
      "OpenCV: FFMPEG: fallback to use tag 0x7634706d/'mp4v'\n",
      " 56%|█████▋    | 108/192 [00:10<00:06, 12.59it/s]OpenCV: FFMPEG: tag 0x5634504d/'MP4V' is not supported with codec id 12 and format 'mp4 / MP4 (MPEG-4 Part 14)'\n",
      "OpenCV: FFMPEG: fallback to use tag 0x7634706d/'mp4v'\n",
      " 27%|██▋       | 38/142 [00:03<00:10, 10.24it/s]OpenCV: FFMPEG: tag 0x5634504d/'MP4V' is not supported with codec id 12 and format 'mp4 / MP4 (MPEG-4 Part 14)'\n",
      "OpenCV: FFMPEG: fallback to use tag 0x7634706d/'mp4v'\n",
      " 72%|███████▏  | 139/192 [00:13<00:05,  9.00it/s]OpenCV: FFMPEG: tag 0x5634504d/'MP4V' is not supported with codec id 12 and format 'mp4 / MP4 (MPEG-4 Part 14)'\n",
      "OpenCV: FFMPEG: fallback to use tag 0x7634706d/'mp4v'\n",
      " 87%|████████▋ | 167/192 [00:16<00:03,  8.28it/s]OpenCV: FFMPEG: tag 0x5634504d/'MP4V' is not supported with codec id 12 and format 'mp4 / MP4 (MPEG-4 Part 14)'\n",
      "OpenCV: FFMPEG: fallback to use tag 0x7634706d/'mp4v'\n",
      " 72%|███████▏  | 50/69 [00:06<00:02,  6.85it/s]]]OpenCV: FFMPEG: tag 0x5634504d/'MP4V' is not supported with codec id 12 and format 'mp4 / MP4 (MPEG-4 Part 14)'\n",
      "OpenCV: FFMPEG: fallback to use tag 0x7634706d/'mp4v'\n",
      " 95%|█████████▍| 108/114 [00:10<00:00,  7.89it/s]OpenCV: FFMPEG: tag 0x5634504d/'MP4V' is not supported with codec id 12 and format 'mp4 / MP4 (MPEG-4 Part 14)'\n",
      "OpenCV: FFMPEG: fallback to use tag 0x7634706d/'mp4v'\n",
      " 47%|████▋     | 71/151 [00:06<00:07, 10.10it/s]OpenCV: FFMPEG: tag 0x5634504d/'MP4V' is not supported with codec id 12 and format 'mp4 / MP4 (MPEG-4 Part 14)'\n",
      "OpenCV: FFMPEG: fallback to use tag 0x7634706d/'mp4v'\n",
      " 55%|█████▍    | 83/151 [00:08<00:06,  9.75it/s]OpenCV: FFMPEG: tag 0x5634504d/'MP4V' is not supported with codec id 12 and format 'mp4 / MP4 (MPEG-4 Part 14)'\n",
      "OpenCV: FFMPEG: fallback to use tag 0x7634706d/'mp4v'\n",
      "  6%|▌         | 36/582 [00:03<00:41, 13.19it/s]OpenCV: FFMPEG: tag 0x5634504d/'MP4V' is not supported with codec id 12 and format 'mp4 / MP4 (MPEG-4 Part 14)'\n",
      "OpenCV: FFMPEG: fallback to use tag 0x7634706d/'mp4v'\n",
      " 76%|███████▌  | 115/151 [00:11<00:03, 11.43it/s]OpenCV: FFMPEG: tag 0x5634504d/'MP4V' is not supported with codec id 12 and format 'mp4 / MP4 (MPEG-4 Part 14)'\n",
      "OpenCV: FFMPEG: fallback to use tag 0x7634706d/'mp4v'\n",
      "  0%|          | 0/2 [00:00<?, ?it/s]OpenCV: FFMPEG: tag 0x5634504d/'MP4V' is not supported with codec id 12 and format 'mp4 / MP4 (MPEG-4 Part 14)'\n",
      "OpenCV: FFMPEG: fallback to use tag 0x7634706d/'mp4v'\n",
      " 79%|███████▉  | 119/151 [00:11<00:02, 12.23it/s]OpenCV: FFMPEG: tag 0x5634504d/'MP4V' is not supported with codec id 12 and format 'mp4 / MP4 (MPEG-4 Part 14)'\n",
      "OpenCV: FFMPEG: fallback to use tag 0x7634706d/'mp4v'\n",
      " 87%|████████▋ | 131/151 [00:12<00:02,  9.76it/s]OpenCV: FFMPEG: tag 0x5634504d/'MP4V' is not supported with codec id 12 and format 'mp4 / MP4 (MPEG-4 Part 14)'\n",
      "OpenCV: FFMPEG: fallback to use tag 0x7634706d/'mp4v'\n",
      " 39%|███▉      | 39/100 [00:03<00:04, 13.20it/s]OpenCV: FFMPEG: tag 0x5634504d/'MP4V' is not supported with codec id 12 and format 'mp4 / MP4 (MPEG-4 Part 14)'\n",
      "OpenCV: FFMPEG: fallback to use tag 0x7634706d/'mp4v'\n",
      " 20%|█▉        | 115/582 [00:10<00:41, 11.32it/s]OpenCV: FFMPEG: tag 0x5634504d/'MP4V' is not supported with codec id 12 and format 'mp4 / MP4 (MPEG-4 Part 14)'\n",
      "OpenCV: FFMPEG: fallback to use tag 0x7634706d/'mp4v'\n",
      " 70%|███████   | 70/100 [00:05<00:03,  8.73it/s]]OpenCV: FFMPEG: tag 0x5634504d/'MP4V' is not supported with codec id 12 and format 'mp4 / MP4 (MPEG-4 Part 14)'\n",
      "OpenCV: FFMPEG: fallback to use tag 0x7634706d/'mp4v'\n",
      "100%|██████████| 582/582 [00:55<00:00, 10.57it/s]OpenCV: FFMPEG: tag 0x5634504d/'MP4V' is not supported with codec id 12 and format 'mp4 / MP4 (MPEG-4 Part 14)'\n",
      "OpenCV: FFMPEG: fallback to use tag 0x7634706d/'mp4v'\n",
      "\n",
      "  0%|          | 0/62 [00:00<?, ?it/s]OpenCV: FFMPEG: tag 0x5634504d/'MP4V' is not supported with codec id 12 and format 'mp4 / MP4 (MPEG-4 Part 14)'\n",
      "OpenCV: FFMPEG: fallback to use tag 0x7634706d/'mp4v'\n",
      "\n",
      " 12%|█▏        | 11/93 [00:00<00:06, 12.79it/s]OpenCV: FFMPEG: tag 0x5634504d/'MP4V' is not supported with codec id 12 and format 'mp4 / MP4 (MPEG-4 Part 14)'\n",
      "OpenCV: FFMPEG: fallback to use tag 0x7634706d/'mp4v'\n",
      "\n",
      "100%|██████████| 93/93 [00:06<00:00, 14.39it/s]OpenCV: FFMPEG: tag 0x5634504d/'MP4V' is not supported with codec id 12 and format 'mp4 / MP4 (MPEG-4 Part 14)'\n",
      "OpenCV: FFMPEG: fallback to use tag 0x7634706d/'mp4v'\n",
      "\n",
      "100%|██████████| 60/60 [00:04<00:00, 12.80it/s]OpenCV: FFMPEG: tag 0x5634504d/'MP4V' is not supported with codec id 12 and format 'mp4 / MP4 (MPEG-4 Part 14)'\n",
      "OpenCV: FFMPEG: fallback to use tag 0x7634706d/'mp4v'\n",
      "\n",
      " 14%|█▍        | 29/202 [00:02<00:13, 13.12it/s]OpenCV: FFMPEG: tag 0x5634504d/'MP4V' is not supported with codec id 12 and format 'mp4 / MP4 (MPEG-4 Part 14)'\n",
      "OpenCV: FFMPEG: fallback to use tag 0x7634706d/'mp4v'\n",
      "\n",
      " 53%|█████▎    | 108/202 [00:08<00:06, 15.10it/s]OpenCV: FFMPEG: tag 0x5634504d/'MP4V' is not supported with codec id 12 and format 'mp4 / MP4 (MPEG-4 Part 14)'\n",
      "OpenCV: FFMPEG: fallback to use tag 0x7634706d/'mp4v'\n",
      "\n",
      " 69%|██████▉   | 93/134 [00:07<00:02, 13.68it/s]OpenCV: FFMPEG: tag 0x5634504d/'MP4V' is not supported with codec id 12 and format 'mp4 / MP4 (MPEG-4 Part 14)'\n",
      "OpenCV: FFMPEG: fallback to use tag 0x7634706d/'mp4v'\n",
      "OpenCV: FFMPEG: tag 0x5634504d/'MP4V' is not supported with codec id 12 and format 'mp4 / MP4 (MPEG-4 Part 14)'\n",
      "OpenCV: FFMPEG: fallback to use tag 0x7634706d/'mp4v'\n",
      "\n",
      "  0%|          | 0/102 [00:00<?, ?it/s]\n",
      " 73%|███████▎  | 74/102 [00:04<00:01, 16.29it/s]]OpenCV: FFMPEG: tag 0x5634504d/'MP4V' is not supported with codec id 12 and format 'mp4 / MP4 (MPEG-4 Part 14)'\n",
      "OpenCV: FFMPEG: fallback to use tag 0x7634706d/'mp4v'\n",
      "\n",
      " 78%|███████▊  | 80/102 [00:05<00:01, 14.62it/s]OpenCV: FFMPEG: tag 0x5634504d/'MP4V' is not supported with codec id 12 and format 'mp4 / MP4 (MPEG-4 Part 14)'\n",
      "OpenCV: FFMPEG: fallback to use tag 0x7634706d/'mp4v'\n",
      "\n",
      " 11%|█         | 5/45 [00:00<00:03, 13.24it/s]OpenCV: FFMPEG: tag 0x5634504d/'MP4V' is not supported with codec id 12 and format 'mp4 / MP4 (MPEG-4 Part 14)'\n",
      "OpenCV: FFMPEG: fallback to use tag 0x7634706d/'mp4v'\n",
      "\n",
      " 47%|████▋     | 32/68 [00:02<00:02, 14.99it/s]]]OpenCV: FFMPEG: tag 0x5634504d/'MP4V' is not supported with codec id 12 and format 'mp4 / MP4 (MPEG-4 Part 14)'\n",
      "OpenCV: FFMPEG: fallback to use tag 0x7634706d/'mp4v'\n",
      "\n",
      " 28%|██▊       | 14/50 [00:00<00:02, 14.39it/s]OpenCV: FFMPEG: tag 0x5634504d/'MP4V' is not supported with codec id 12 and format 'mp4 / MP4 (MPEG-4 Part 14)'\n",
      "OpenCV: FFMPEG: fallback to use tag 0x7634706d/'mp4v'\n",
      " 74%|███████▎  | 50/68 [00:03<00:01, 17.46it/s]\n",
      " 22%|██▏       | 4/18 [00:00<00:00, 14.27it/s]OpenCV: FFMPEG: tag 0x5634504d/'MP4V' is not supported with codec id 12 and format 'mp4 / MP4 (MPEG-4 Part 14)'\n",
      "OpenCV: FFMPEG: fallback to use tag 0x7634706d/'mp4v'\n",
      " 16%|█▌        | 64/406 [00:03<00:18, 18.35it/s]\n",
      " 18%|█▊        | 72/406 [00:04<00:16, 19.95it/s]OpenCV: FFMPEG: tag 0x5634504d/'MP4V' is not supported with codec id 12 and format 'mp4 / MP4 (MPEG-4 Part 14)'\n",
      "OpenCV: FFMPEG: fallback to use tag 0x7634706d/'mp4v'\n",
      "\n",
      " 24%|██▍       | 99/406 [00:05<00:16, 18.91it/s]OpenCV: FFMPEG: tag 0x5634504d/'MP4V' is not supported with codec id 12 and format 'mp4 / MP4 (MPEG-4 Part 14)'\n",
      "OpenCV: FFMPEG: fallback to use tag 0x7634706d/'mp4v'\n",
      "\n",
      " 85%|████████▍ | 73/86 [00:03<00:00, 19.62it/s]OpenCV: FFMPEG: tag 0x5634504d/'MP4V' is not supported with codec id 12 and format 'mp4 / MP4 (MPEG-4 Part 14)'\n",
      "OpenCV: FFMPEG: fallback to use tag 0x7634706d/'mp4v'\n",
      "\n",
      " 62%|██████▏   | 36/58 [00:02<00:01, 17.72it/s]OpenCV: FFMPEG: tag 0x5634504d/'MP4V' is not supported with codec id 12 and format 'mp4 / MP4 (MPEG-4 Part 14)'\n",
      "OpenCV: FFMPEG: fallback to use tag 0x7634706d/'mp4v'\n",
      "\n",
      " 84%|████████▍ | 49/58 [00:03<00:00, 19.02it/s]OpenCV: FFMPEG: tag 0x5634504d/'MP4V' is not supported with codec id 12 and format 'mp4 / MP4 (MPEG-4 Part 14)'\n",
      "OpenCV: FFMPEG: fallback to use tag 0x7634706d/'mp4v'\n",
      "\n",
      " 91%|█████████▏| 53/58 [00:03<00:00, 18.36it/s]OpenCV: FFMPEG: tag 0x5634504d/'MP4V' is not supported with codec id 12 and format 'mp4 / MP4 (MPEG-4 Part 14)'\n",
      "OpenCV: FFMPEG: fallback to use tag 0x7634706d/'mp4v'\n",
      "\n",
      " 42%|████▏     | 172/406 [00:09<00:11, 20.50it/s]OpenCV: FFMPEG: tag 0x5634504d/'MP4V' is not supported with codec id 12 and format 'mp4 / MP4 (MPEG-4 Part 14)'\n",
      "OpenCV: FFMPEG: fallback to use tag 0x7634706d/'mp4v'\n",
      "\n",
      " 48%|████▊     | 193/406 [00:10<00:10, 21.22it/s]OpenCV: FFMPEG: tag 0x5634504d/'MP4V' is not supported with codec id 12 and format 'mp4 / MP4 (MPEG-4 Part 14)'\n",
      "OpenCV: FFMPEG: fallback to use tag 0x7634706d/'mp4v'\n",
      "\n",
      " 38%|███▊      | 36/96 [00:02<00:03, 16.49it/s]OpenCV: FFMPEG: tag 0x5634504d/'MP4V' is not supported with codec id 12 and format 'mp4 / MP4 (MPEG-4 Part 14)'\n",
      "OpenCV: FFMPEG: fallback to use tag 0x7634706d/'mp4v'\n",
      "\n",
      "  8%|▊         | 10/131 [00:00<00:07, 15.52it/s]OpenCV: FFMPEG: tag 0x5634504d/'MP4V' is not supported with codec id 12 and format 'mp4 / MP4 (MPEG-4 Part 14)'\n",
      "OpenCV: FFMPEG: fallback to use tag 0x7634706d/'mp4v'\n",
      "\n",
      " 30%|███       | 39/129 [00:01<00:04, 20.08it/s]OpenCV: FFMPEG: tag 0x5634504d/'MP4V' is not supported with codec id 12 and format 'mp4 / MP4 (MPEG-4 Part 14)'\n",
      "OpenCV: FFMPEG: fallback to use tag 0x7634706d/'mp4v'\n",
      "\n",
      " 86%|████████▋ | 83/96 [00:04<00:00, 19.31it/s]OpenCV: FFMPEG: tag 0x5634504d/'MP4V' is not supported with codec id 12 and format 'mp4 / MP4 (MPEG-4 Part 14)'\n",
      "OpenCV: FFMPEG: fallback to use tag 0x7634706d/'mp4v'\n",
      "\n",
      " 75%|███████▌  | 306/406 [00:14<00:03, 28.80it/s]OpenCV: FFMPEG: tag 0x5634504d/'MP4V' is not supported with codec id 12 and format 'mp4 / MP4 (MPEG-4 Part 14)'\n",
      "OpenCV: FFMPEG: fallback to use tag 0x7634706d/'mp4v'\n",
      "\n",
      " 69%|██████▉   | 91/131 [00:04<00:01, 21.26it/s]OpenCV: FFMPEG: tag 0x5634504d/'MP4V' is not supported with codec id 12 and format 'mp4 / MP4 (MPEG-4 Part 14)'\n",
      "OpenCV: FFMPEG: fallback to use tag 0x7634706d/'mp4v'\n",
      "\n",
      " 81%|████████  | 327/406 [00:15<00:02, 32.42it/s]OpenCV: FFMPEG: tag 0x5634504d/'MP4V' is not supported with codec id 12 and format 'mp4 / MP4 (MPEG-4 Part 14)'\n",
      "OpenCV: FFMPEG: fallback to use tag 0x7634706d/'mp4v'\n",
      "\n",
      " 91%|█████████ | 370/406 [00:16<00:01, 28.87it/s]OpenCV: FFMPEG: tag 0x5634504d/'MP4V' is not supported with codec id 12 and format 'mp4 / MP4 (MPEG-4 Part 14)'\n",
      "OpenCV: FFMPEG: fallback to use tag 0x7634706d/'mp4v'\n",
      "\n",
      " 92%|█████████▏| 374/406 [00:16<00:01, 30.34it/s]OpenCV: FFMPEG: tag 0x5634504d/'MP4V' is not supported with codec id 12 and format 'mp4 / MP4 (MPEG-4 Part 14)'\n",
      "OpenCV: FFMPEG: fallback to use tag 0x7634706d/'mp4v'\n",
      "\n",
      " 28%|██▊       | 19/67 [00:00<00:01, 32.51it/s]s]OpenCV: FFMPEG: tag 0x5634504d/'MP4V' is not supported with codec id 12 and format 'mp4 / MP4 (MPEG-4 Part 14)'\n",
      "OpenCV: FFMPEG: fallback to use tag 0x7634706d/'mp4v'\n",
      "\n",
      " 52%|█████▏    | 35/67 [00:01<00:00, 32.00it/s]OpenCV: FFMPEG: tag 0x5634504d/'MP4V' is not supported with codec id 12 and format 'mp4 / MP4 (MPEG-4 Part 14)'\n",
      "OpenCV: FFMPEG: fallback to use tag 0x7634706d/'mp4v'\n",
      "\n",
      "100%|██████████| 67/67 [00:01<00:00, 33.73it/s]\n",
      "\n",
      "\n",
      "\n",
      "\n",
      "\n",
      "\n",
      "\n",
      "\n",
      "\n",
      "\n",
      "\n",
      "\n",
      "\n",
      "\n"
     ]
    }
   ],
   "source": [
    "a = Parallel(n_jobs=-1)(delayed(cutVideo)(start_frames, end_frames, filename, i) \\\n",
    "                                for i in range(274,len(start_frames)))\n",
    "    "
   ]
  },
  {
   "cell_type": "code",
   "execution_count": 11,
   "id": "d3567e1d-5603-4d2d-aa95-c03c5bcc0463",
   "metadata": {
    "execution": {
     "iopub.execute_input": "2022-08-01T12:50:15.819263Z",
     "iopub.status.busy": "2022-08-01T12:50:15.818262Z",
     "iopub.status.idle": "2022-08-01T12:50:15.827885Z",
     "shell.execute_reply": "2022-08-01T12:50:15.826991Z",
     "shell.execute_reply.started": "2022-08-01T12:50:15.819214Z"
    }
   },
   "outputs": [
    {
     "data": {
      "text/plain": [
       "20954"
      ]
     },
     "execution_count": 11,
     "metadata": {},
     "output_type": "execute_result"
    }
   ],
   "source": [
    "start_frames[400]"
   ]
  },
  {
   "cell_type": "code",
   "execution_count": null,
   "id": "029d8289-b5cd-47b0-924b-950eb222eb42",
   "metadata": {},
   "outputs": [],
   "source": []
  }
 ],
 "metadata": {
  "kernelspec": {
   "display_name": "segment_video_37_v2",
   "language": "python",
   "name": "segment_video_37_v2"
  },
  "language_info": {
   "codemirror_mode": {
    "name": "ipython",
    "version": 3
   },
   "file_extension": ".py",
   "mimetype": "text/x-python",
   "name": "python",
   "nbconvert_exporter": "python",
   "pygments_lexer": "ipython3",
   "version": "3.7.11"
  }
 },
 "nbformat": 4,
 "nbformat_minor": 5
}
