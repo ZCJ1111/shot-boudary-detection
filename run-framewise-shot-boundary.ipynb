{
 "cells": [
  {
   "cell_type": "code",
   "execution_count": 1,
   "id": "5a8438f1-d867-4ca7-b6b0-906188356b4b",
   "metadata": {
    "execution": {
     "iopub.execute_input": "2022-08-01T15:07:30.116920Z",
     "iopub.status.busy": "2022-08-01T15:07:30.115515Z",
     "iopub.status.idle": "2022-08-01T15:07:31.309114Z",
     "shell.execute_reply": "2022-08-01T15:07:31.308162Z",
     "shell.execute_reply.started": "2022-08-01T15:07:30.116780Z"
    },
    "tags": []
   },
   "outputs": [],
   "source": [
    "#import torch\n",
    "#from torchvision import transforms\n",
    "#from torch.utils.data import Dataset, DataLoader\n",
    "import numpy as np\n",
    "from PIL import Image\n",
    "from glob import glob\n",
    "import cv2 as cv\n",
    "import matplotlib.pyplot as plt\n",
    "import numpy as np\n",
    "#import torch.nn as nn\n",
    "#import torch.nn.functional as F\n",
    "from tqdm import tqdm\n",
    "import os \n",
    "#from sklearn.metrics import confusion_matrix\n",
    "#from scipy.stats import logistic\n",
    "import imageio\n",
    "from videoio import videosave, videoread\n",
    "from moviepy.editor import *\n",
    "import json\n",
    "import matplotlib.pyplot as plt\n",
    "import cv2 as cv\n",
    "import numpy as np\n",
    "import pylab\n",
    "import imageio\n",
    "from tqdm import tqdm\n",
    "from joblib import Parallel, delayed\n",
    "from videoio import videosave, videoread\n",
    "import os\n",
    "import fadesUtilities_frame_by_frame as fades_util\n",
    "import opticalFlowUtilities_frame_by_frame as util\n",
    "import fitCNNUtilities_frame_by_frame as cnn_utils\n",
    "import sys\n",
    "import time\n",
    "import cv2\n",
    "from utilities_frame_by_frame import *\n",
    "from moviepy.video.io.ffmpeg_tools import ffmpeg_extract_subclip"
   ]
  },
  {
   "cell_type": "code",
   "execution_count": 2,
   "id": "52b32e38-cd32-4a20-9807-b6f45deb0f9f",
   "metadata": {
    "execution": {
     "iopub.execute_input": "2022-08-01T15:07:31.311055Z",
     "iopub.status.busy": "2022-08-01T15:07:31.310690Z",
     "iopub.status.idle": "2022-08-01T15:07:31.399462Z",
     "shell.execute_reply": "2022-08-01T15:07:31.398644Z",
     "shell.execute_reply.started": "2022-08-01T15:07:31.311024Z"
    },
    "tags": []
   },
   "outputs": [
    {
     "data": {
      "text/plain": [
       "False"
      ]
     },
     "execution_count": 2,
     "metadata": {},
     "output_type": "execute_result"
    }
   ],
   "source": [
    "import torch\n",
    "torch.cuda.is_available()"
   ]
  },
  {
   "cell_type": "code",
   "execution_count": null,
   "id": "2b6a1963-344b-485d-9963-eebf4198278a",
   "metadata": {},
   "outputs": [],
   "source": []
  },
  {
   "cell_type": "code",
   "execution_count": 3,
   "id": "9c0e780c-c4e2-41b9-9399-7a8401d20ac4",
   "metadata": {
    "execution": {
     "iopub.execute_input": "2022-08-01T15:07:36.902755Z",
     "iopub.status.busy": "2022-08-01T15:07:36.901862Z",
     "iopub.status.idle": "2022-08-01T15:07:36.937469Z",
     "shell.execute_reply": "2022-08-01T15:07:36.936644Z",
     "shell.execute_reply.started": "2022-08-01T15:07:36.902720Z"
    },
    "tags": []
   },
   "outputs": [],
   "source": [
    "filename = '/Users/mike/Desktop/72508-72767 (1).mp4'\n",
    "filename = '/Users/mike/Desktop/Audi RS 5 DTM Race Cars - on the Race Track-vjxUVpQt5f4.mp4'\n",
    "filename = '/Users/mike/Desktop/wpt_test.mp4'\n",
    "filename = 'e77f1d3c-959e-4b48-b101-76f70b183bc5.mp4'\n",
    "filename = 'wpt_trimmed.mp4'\n",
    "\n",
    "output_path0 = 'test_outputs'\n",
    "rgb = True \n",
    "seek_forward_of = 5\n",
    "seek_forward_cnn = 1\n",
    "thold_hist = 0.9\n",
    "thold_cnn = 0.9\n",
    "hist_eq0 = True\n",
    "path_to_model = 'model'\n",
    "INTERVAL = 5000\n",
    "\n",
    "fades_obj = fades_util.detectFades(filename, rgb, seek_forward_of, seek_forward_cnn)\n",
    "opt_flow_test = util.generateOpticalFlowResults(filename, hist_eq0, seek_forward_cnn)\n",
    "cnn_obj = cnn_utils.analysisWithCNN(path_to_model, hist_eq0, rgb=False, seek_forward=seek_forward_cnn)\n",
    "max_frame, fps = findFrameNumber(filename)\n"
   ]
  },
  {
   "cell_type": "code",
   "execution_count": 4,
   "id": "cf27fb32-13f8-41d7-bea2-c113c5d20d62",
   "metadata": {
    "execution": {
     "iopub.execute_input": "2022-08-01T15:08:00.663142Z",
     "iopub.status.busy": "2022-08-01T15:08:00.662297Z",
     "iopub.status.idle": "2022-08-01T15:31:44.123493Z",
     "shell.execute_reply": "2022-08-01T15:31:44.121058Z",
     "shell.execute_reply.started": "2022-08-01T15:08:00.663110Z"
    },
    "tags": []
   },
   "outputs": [
    {
     "name": "stderr",
     "output_type": "stream",
     "text": [
      "100%|██████████| 5000/5000 [03:18<00:00, 25.13it/s]\n",
      "100%|██████████| 5000/5000 [03:14<00:00, 25.64it/s]\n",
      "100%|██████████| 5000/5000 [03:02<00:00, 27.46it/s]\n",
      "100%|██████████| 5000/5000 [03:18<00:00, 25.25it/s]\n",
      "100%|██████████| 418/418 [02:17<00:00,  3.05it/s]\n"
     ]
    }
   ],
   "source": [
    "\n",
    "for chunk in range(1+(max_frame//INTERVAL)):\n",
    "    start_frame = chunk*INTERVAL\n",
    "    end_frame = (chunk+1)*INTERVAL\n",
    "    transitions2 = outerLoop(filename, start_frame, end_frame, seek_forward_cnn, seek_forward_of, chunk, fades_obj, opt_flow_test, cnn_obj, thold_hist, thold_cnn)\n",
    "    with open('output_videos/'+str(chunk)+'.txt','w+') as f:\n",
    "        [f.write(str(elem+start_frame)+'\\n') for elem in transitions2]\n"
   ]
  },
  {
   "cell_type": "code",
   "execution_count": null,
   "id": "ccc792f4-c63f-4e1a-8324-08e6307e80ea",
   "metadata": {
    "execution": {
     "iopub.status.busy": "2022-07-31T23:48:05.519986Z",
     "iopub.status.idle": "2022-07-31T23:48:05.521352Z",
     "shell.execute_reply": "2022-07-31T23:48:05.520985Z",
     "shell.execute_reply.started": "2022-07-31T23:48:05.520946Z"
    }
   },
   "outputs": [],
   "source": [
    "\"\"\"\n",
    "L =[]\n",
    "KK = glob('test_vid*.mp4')\n",
    "KK = [k for k in KK if 'fused' not in k]\n",
    "\n",
    "for i in tqdm(range(len(KK))):\n",
    "\n",
    "    files = 'test_vid'+str(i+1)+'.mp4'\n",
    "    video = VideoFileClip(files)\n",
    "    L.append(video)\n",
    "\n",
    "final_clip = concatenate_videoclips(L)\n",
    "final_clip.to_videofile('vid_t3_fused.mp4', fps=24)\n",
    "\"\"\""
   ]
  },
  {
   "cell_type": "code",
   "execution_count": null,
   "id": "836ead21-1fa5-42ad-90c9-468860daaaeb",
   "metadata": {
    "execution": {
     "iopub.status.busy": "2022-07-31T23:48:05.525189Z",
     "iopub.status.idle": "2022-07-31T23:48:05.526443Z",
     "shell.execute_reply": "2022-07-31T23:48:05.526107Z",
     "shell.execute_reply.started": "2022-07-31T23:48:05.526069Z"
    }
   },
   "outputs": [],
   "source": [
    "max_frame"
   ]
  },
  {
   "cell_type": "code",
   "execution_count": null,
   "id": "5f6ac42d-124f-4394-9b5b-550bd2bf222b",
   "metadata": {},
   "outputs": [],
   "source": []
  },
  {
   "cell_type": "code",
   "execution_count": null,
   "id": "7d77ab91-3652-4749-971f-58daaa5e5036",
   "metadata": {},
   "outputs": [],
   "source": []
  },
  {
   "cell_type": "code",
   "execution_count": null,
   "id": "f4dec390-36b8-49bc-82d7-a0af10c7a61a",
   "metadata": {},
   "outputs": [],
   "source": []
  },
  {
   "cell_type": "code",
   "execution_count": null,
   "id": "8a0aa9a9-0798-4e00-929a-54398b631c87",
   "metadata": {},
   "outputs": [],
   "source": []
  }
 ],
 "metadata": {
  "kernelspec": {
   "display_name": "segment_video_37_v2",
   "language": "python",
   "name": "segment_video_37_v2"
  },
  "language_info": {
   "codemirror_mode": {
    "name": "ipython",
    "version": 3
   },
   "file_extension": ".py",
   "mimetype": "text/x-python",
   "name": "python",
   "nbconvert_exporter": "python",
   "pygments_lexer": "ipython3",
   "version": "3.7.11"
  }
 },
 "nbformat": 4,
 "nbformat_minor": 5
}
