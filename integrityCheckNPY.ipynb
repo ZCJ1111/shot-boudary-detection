{
 "cells": [
  {
   "cell_type": "code",
   "execution_count": 5,
   "id": "af4114b7-959b-41d8-b168-5c4c6e9ceada",
   "metadata": {
    "execution": {
     "iopub.execute_input": "2022-05-25T07:58:47.683207Z",
     "iopub.status.busy": "2022-05-25T07:58:47.682853Z",
     "iopub.status.idle": "2022-05-25T07:58:47.687180Z",
     "shell.execute_reply": "2022-05-25T07:58:47.686530Z",
     "shell.execute_reply.started": "2022-05-25T07:58:47.683183Z"
    },
    "tags": []
   },
   "outputs": [],
   "source": [
    "from glob import glob\n",
    "import os\n",
    "import numpy as np\n",
    "from tqdm import tqdm\n",
    "import cv2 as cv"
   ]
  },
  {
   "cell_type": "code",
   "execution_count": 9,
   "id": "cf4e4070-7a60-4dda-a0e7-9951176aab5a",
   "metadata": {
    "execution": {
     "iopub.execute_input": "2022-05-25T07:58:58.335780Z",
     "iopub.status.busy": "2022-05-25T07:58:58.334785Z",
     "iopub.status.idle": "2022-05-25T07:58:58.546007Z",
     "shell.execute_reply": "2022-05-25T07:58:58.545162Z",
     "shell.execute_reply.started": "2022-05-25T07:58:58.335744Z"
    },
    "tags": []
   },
   "outputs": [],
   "source": [
    "KK = glob('result_MR_lego/*tt*png')"
   ]
  },
  {
   "cell_type": "code",
   "execution_count": 10,
   "id": "e4e3f60b-3b48-40ec-aa4d-45fa663f6b58",
   "metadata": {
    "execution": {
     "iopub.execute_input": "2022-05-25T07:58:58.811609Z",
     "iopub.status.busy": "2022-05-25T07:58:58.810858Z",
     "iopub.status.idle": "2022-05-25T08:01:27.367095Z",
     "shell.execute_reply": "2022-05-25T08:01:27.365868Z",
     "shell.execute_reply.started": "2022-05-25T07:58:58.811580Z"
    },
    "tags": []
   },
   "outputs": [
    {
     "name": "stderr",
     "output_type": "stream",
     "text": [
      " 81%|███████████████████████████████████████████████████████████████████████████████████████████████████████████████████████████████████████████▏                               | 3622/4449 [02:28<00:33, 24.38it/s]\n"
     ]
    },
    {
     "ename": "KeyboardInterrupt",
     "evalue": "",
     "output_type": "error",
     "traceback": [
      "\u001b[0;31m---------------------------------------------------------------------------\u001b[0m",
      "\u001b[0;31mKeyboardInterrupt\u001b[0m                         Traceback (most recent call last)",
      "\u001b[0;32m/tmp/ipykernel_97895/3079041844.py\u001b[0m in \u001b[0;36m<module>\u001b[0;34m\u001b[0m\n\u001b[1;32m      1\u001b[0m \u001b[0;32mfor\u001b[0m \u001b[0mkk\u001b[0m \u001b[0;32min\u001b[0m \u001b[0mtqdm\u001b[0m\u001b[0;34m(\u001b[0m\u001b[0mKK\u001b[0m\u001b[0;34m)\u001b[0m\u001b[0;34m:\u001b[0m\u001b[0;34m\u001b[0m\u001b[0;34m\u001b[0m\u001b[0m\n\u001b[1;32m      2\u001b[0m \u001b[0;34m\u001b[0m\u001b[0m\n\u001b[0;32m----> 3\u001b[0;31m     \u001b[0mimg_cv\u001b[0m \u001b[0;34m=\u001b[0m \u001b[0mcv\u001b[0m\u001b[0;34m.\u001b[0m\u001b[0mimread\u001b[0m\u001b[0;34m(\u001b[0m\u001b[0mkk\u001b[0m\u001b[0;34m)\u001b[0m\u001b[0;34m\u001b[0m\u001b[0;34m\u001b[0m\u001b[0m\n\u001b[0m\u001b[1;32m      4\u001b[0m     \u001b[0maa\u001b[0m \u001b[0;34m=\u001b[0m \u001b[0mimg_cv\u001b[0m\u001b[0;34m.\u001b[0m\u001b[0mshape\u001b[0m\u001b[0;34m\u001b[0m\u001b[0;34m\u001b[0m\u001b[0m\n",
      "\u001b[0;31mKeyboardInterrupt\u001b[0m: "
     ]
    }
   ],
   "source": [
    "for kk in tqdm(KK):\n",
    "    \n",
    "    img_cv = cv.imread(kk)\n",
    "    aa = img_cv.shape"
   ]
  },
  {
   "cell_type": "code",
   "execution_count": null,
   "id": "facfdfd8-8744-410c-8a66-8d9c922e812d",
   "metadata": {
    "execution": {
     "iopub.status.busy": "2022-05-25T08:03:05.115022Z"
    },
    "tags": []
   },
   "outputs": [],
   "source": [
    "a = cv.imread('result_MR_lego/frame_he_17639.png')"
   ]
  },
  {
   "cell_type": "code",
   "execution_count": null,
   "id": "6e0da6ed-11c6-46b6-ab04-29b2e590e46c",
   "metadata": {
    "tags": []
   },
   "outputs": [],
   "source": [
    "import matplotlib.pyplot as plt"
   ]
  },
  {
   "cell_type": "code",
   "execution_count": null,
   "id": "9044ac53-a89e-4508-910a-06a9a8d09cc6",
   "metadata": {
    "tags": []
   },
   "outputs": [],
   "source": [
    "plt.imshow(a)"
   ]
  },
  {
   "cell_type": "code",
   "execution_count": null,
   "id": "03d3a32c-18cf-4831-bcb3-8fc0e8750f57",
   "metadata": {},
   "outputs": [],
   "source": []
  }
 ],
 "metadata": {
  "kernelspec": {
   "display_name": "segment_video_37",
   "language": "python",
   "name": "segment_video_37"
  },
  "language_info": {
   "codemirror_mode": {
    "name": "ipython",
    "version": 3
   },
   "file_extension": ".py",
   "mimetype": "text/x-python",
   "name": "python",
   "nbconvert_exporter": "python",
   "pygments_lexer": "ipython3",
   "version": "3.7.3"
  }
 },
 "nbformat": 4,
 "nbformat_minor": 5
}
